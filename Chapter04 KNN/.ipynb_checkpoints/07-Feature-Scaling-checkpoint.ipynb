{
 "cells": [
  {
   "cell_type": "code",
   "execution_count": 1,
   "metadata": {},
   "outputs": [],
   "source": [
    "import numpy as np\n",
    "import matplotlib.pyplot as plt"
   ]
  },
  {
   "cell_type": "markdown",
   "metadata": {},
   "source": [
    "## Value normalization"
   ]
  },
  {
   "cell_type": "code",
   "execution_count": 2,
   "metadata": {},
   "outputs": [],
   "source": [
    "x = np.random.randint(0, 100, 100)"
   ]
  },
  {
   "cell_type": "code",
   "execution_count": 3,
   "metadata": {},
   "outputs": [
    {
     "data": {
      "text/plain": [
       "array([38, 46, 86, 64, 71,  5, 96, 68, 56, 90, 82, 61, 41, 14, 37, 84,  8,\n",
       "       91, 91, 76, 99, 94, 46,  0,  6, 43, 27, 80, 38, 39, 55, 25, 97, 48,\n",
       "       87, 67, 99, 23, 57, 55, 72, 65,  6, 80, 15,  9, 86,  8, 10, 39, 92,\n",
       "       40, 48, 31, 64, 91, 39,  6, 61, 71,  8, 60, 76, 44, 54,  1, 54,  2,\n",
       "       26, 25, 25, 60, 24, 40,  4, 91, 48, 56, 54, 97, 58, 54, 37, 84, 25,\n",
       "       65, 88, 92,  2, 58, 60, 92, 55, 48, 39, 89, 14, 42, 81, 26])"
      ]
     },
     "execution_count": 3,
     "metadata": {},
     "output_type": "execute_result"
    }
   ],
   "source": [
    "x"
   ]
  },
  {
   "cell_type": "code",
   "execution_count": 4,
   "metadata": {},
   "outputs": [
    {
     "data": {
      "text/plain": [
       "array([0.38383838, 0.46464646, 0.86868687, 0.64646465, 0.71717172,\n",
       "       0.05050505, 0.96969697, 0.68686869, 0.56565657, 0.90909091,\n",
       "       0.82828283, 0.61616162, 0.41414141, 0.14141414, 0.37373737,\n",
       "       0.84848485, 0.08080808, 0.91919192, 0.91919192, 0.76767677,\n",
       "       1.        , 0.94949495, 0.46464646, 0.        , 0.06060606,\n",
       "       0.43434343, 0.27272727, 0.80808081, 0.38383838, 0.39393939,\n",
       "       0.55555556, 0.25252525, 0.97979798, 0.48484848, 0.87878788,\n",
       "       0.67676768, 1.        , 0.23232323, 0.57575758, 0.55555556,\n",
       "       0.72727273, 0.65656566, 0.06060606, 0.80808081, 0.15151515,\n",
       "       0.09090909, 0.86868687, 0.08080808, 0.1010101 , 0.39393939,\n",
       "       0.92929293, 0.4040404 , 0.48484848, 0.31313131, 0.64646465,\n",
       "       0.91919192, 0.39393939, 0.06060606, 0.61616162, 0.71717172,\n",
       "       0.08080808, 0.60606061, 0.76767677, 0.44444444, 0.54545455,\n",
       "       0.01010101, 0.54545455, 0.02020202, 0.26262626, 0.25252525,\n",
       "       0.25252525, 0.60606061, 0.24242424, 0.4040404 , 0.04040404,\n",
       "       0.91919192, 0.48484848, 0.56565657, 0.54545455, 0.97979798,\n",
       "       0.58585859, 0.54545455, 0.37373737, 0.84848485, 0.25252525,\n",
       "       0.65656566, 0.88888889, 0.92929293, 0.02020202, 0.58585859,\n",
       "       0.60606061, 0.92929293, 0.55555556, 0.48484848, 0.39393939,\n",
       "       0.8989899 , 0.14141414, 0.42424242, 0.81818182, 0.26262626])"
      ]
     },
     "execution_count": 4,
     "metadata": {},
     "output_type": "execute_result"
    }
   ],
   "source": [
    "(x - np.min(x)) / (np.max(x) - np.min(x))"
   ]
  },
  {
   "cell_type": "code",
   "execution_count": 5,
   "metadata": {},
   "outputs": [],
   "source": [
    "X = np.random.randint(0, 100, (50, 2))"
   ]
  },
  {
   "cell_type": "code",
   "execution_count": 6,
   "metadata": {},
   "outputs": [],
   "source": [
    "X = np.array(X, dtype=float)"
   ]
  },
  {
   "cell_type": "code",
   "execution_count": 7,
   "metadata": {},
   "outputs": [
    {
     "data": {
      "text/plain": [
       "array([[71., 92.],\n",
       "       [98.,  8.],\n",
       "       [67., 75.],\n",
       "       [35., 32.],\n",
       "       [35., 46.],\n",
       "       [81., 41.],\n",
       "       [42., 84.],\n",
       "       [74., 94.],\n",
       "       [88., 29.],\n",
       "       [28.,  3.]])"
      ]
     },
     "execution_count": 7,
     "metadata": {},
     "output_type": "execute_result"
    }
   ],
   "source": [
    "X[:10,:]"
   ]
  },
  {
   "cell_type": "code",
   "execution_count": 8,
   "metadata": {},
   "outputs": [],
   "source": [
    "X[:,0] = (X[:,0] - np.min(X[:,0])) / (np.max(X[:,0]) - np.min(X[:,0]))\n",
    "X[:,1] = (X[:,1] - np.min(X[:,1])) / (np.max(X[:,1]) - np.min(X[:,1]))"
   ]
  },
  {
   "cell_type": "code",
   "execution_count": 9,
   "metadata": {},
   "outputs": [
    {
     "data": {
      "text/plain": [
       "array([[0.71875   , 0.93877551],\n",
       "       [1.        , 0.08163265],\n",
       "       [0.67708333, 0.76530612],\n",
       "       [0.34375   , 0.32653061],\n",
       "       [0.34375   , 0.46938776],\n",
       "       [0.82291667, 0.41836735],\n",
       "       [0.41666667, 0.85714286],\n",
       "       [0.75      , 0.95918367],\n",
       "       [0.89583333, 0.29591837],\n",
       "       [0.27083333, 0.03061224]])"
      ]
     },
     "execution_count": 9,
     "metadata": {},
     "output_type": "execute_result"
    }
   ],
   "source": [
    "X[:10,:]"
   ]
  },
  {
   "cell_type": "code",
   "execution_count": 10,
   "metadata": {},
   "outputs": [
    {
     "data": {
      "image/png": "[encoded data removed]",
      "text/plain": [
       "<Figure size 432x288 with 1 Axes>"
      ]
     },
     "metadata": {
      "needs_background": "light"
     },
     "output_type": "display_data"
    }
   ],
   "source": [
    "plt.scatter(X[:,0], X[:,1])\n",
    "plt.show()"
   ]
  },
  {
   "cell_type": "code",
   "execution_count": 11,
   "metadata": {},
   "outputs": [
    {
     "data": {
      "text/plain": [
       "0.485625"
      ]
     },
     "execution_count": 11,
     "metadata": {},
     "output_type": "execute_result"
    }
   ],
   "source": [
    "np.mean(X[:,0])"
   ]
  },
  {
   "cell_type": "code",
   "execution_count": 12,
   "metadata": {},
   "outputs": [
    {
     "data": {
      "text/plain": [
       "0.2986216164172759"
      ]
     },
     "execution_count": 12,
     "metadata": {},
     "output_type": "execute_result"
    }
   ],
   "source": [
    "np.std(X[:,0])"
   ]
  },
  {
   "cell_type": "code",
   "execution_count": 13,
   "metadata": {},
   "outputs": [
    {
     "data": {
      "text/plain": [
       "0.5289795918367346"
      ]
     },
     "execution_count": 13,
     "metadata": {},
     "output_type": "execute_result"
    }
   ],
   "source": [
    "np.mean(X[:,1])"
   ]
  },
  {
   "cell_type": "code",
   "execution_count": 14,
   "metadata": {},
   "outputs": [
    {
     "data": {
      "text/plain": [
       "0.30146359626835884"
      ]
     },
     "execution_count": 14,
     "metadata": {},
     "output_type": "execute_result"
    }
   ],
   "source": [
    "np.std(X[:,1])"
   ]
  },
  {
   "cell_type": "markdown",
   "metadata": {},
   "source": [
    "## Standardization"
   ]
  },
  {
   "cell_type": "code",
   "execution_count": 15,
   "metadata": {},
   "outputs": [],
   "source": [
    "X2 = np.random.randint(0, 100, (50, 2))"
   ]
  },
  {
   "cell_type": "code",
   "execution_count": 16,
   "metadata": {},
   "outputs": [],
   "source": [
    "X2 = np.array(X2, dtype=float)"
   ]
  },
  {
   "cell_type": "code",
   "execution_count": 17,
   "metadata": {},
   "outputs": [
    {
     "data": {
      "text/plain": [
       "array([[ 6., 68.],\n",
       "       [76., 42.],\n",
       "       [12., 93.],\n",
       "       [93., 23.],\n",
       "       [86., 97.],\n",
       "       [ 7., 24.],\n",
       "       [71., 82.],\n",
       "       [90., 52.],\n",
       "       [90., 96.],\n",
       "       [46., 99.]])"
      ]
     },
     "execution_count": 17,
     "metadata": {},
     "output_type": "execute_result"
    }
   ],
   "source": [
    "X2[:10,:]"
   ]
  },
  {
   "cell_type": "code",
   "execution_count": 18,
   "metadata": {},
   "outputs": [],
   "source": [
    "X2[:,0] = (X2[:,0] - np.mean(X2[:,0])) / np.std(X2[:,0])\n",
    "X2[:,1] = (X2[:,1] - np.mean(X2[:,1])) / np.std(X2[:,1])"
   ]
  },
  {
   "cell_type": "code",
   "execution_count": 19,
   "metadata": {},
   "outputs": [
    {
     "data": {
      "image/png": "[encoded data removed]",
      "text/plain": [
       "<Figure size 432x288 with 1 Axes>"
      ]
     },
     "metadata": {
      "needs_background": "light"
     },
     "output_type": "display_data"
    }
   ],
   "source": [
    "plt.scatter(X2[:,0], X2[:,1])\n",
    "plt.show()"
   ]
  },
  {
   "cell_type": "code",
   "execution_count": 20,
   "metadata": {},
   "outputs": [
    {
     "data": {
      "text/plain": [
       "8.881784197001253e-18"
      ]
     },
     "execution_count": 20,
     "metadata": {},
     "output_type": "execute_result"
    }
   ],
   "source": [
    "np.mean(X2[:,0])"
   ]
  },
  {
   "cell_type": "code",
   "execution_count": 21,
   "metadata": {},
   "outputs": [
    {
     "data": {
      "text/plain": [
       "1.0"
      ]
     },
     "execution_count": 21,
     "metadata": {},
     "output_type": "execute_result"
    }
   ],
   "source": [
    "np.std(X2[:,0])"
   ]
  },
  {
   "cell_type": "code",
   "execution_count": 22,
   "metadata": {},
   "outputs": [
    {
     "data": {
      "text/plain": [
       "6.106226635438361e-17"
      ]
     },
     "execution_count": 22,
     "metadata": {},
     "output_type": "execute_result"
    }
   ],
   "source": [
    "np.mean(X2[:,1])"
   ]
  },
  {
   "cell_type": "code",
   "execution_count": 23,
   "metadata": {},
   "outputs": [
    {
     "data": {
      "text/plain": [
       "0.9999999999999999"
      ]
     },
     "execution_count": 23,
     "metadata": {},
     "output_type": "execute_result"
    }
   ],
   "source": [
    "np.std(X2[:,1])"
   ]
  }
 ],
 "metadata": {
  "kernelspec": {
   "display_name": "ML",
   "language": "python",
   "name": "ml"
  },
  "language_info": {
   "codemirror_mode": {
    "name": "ipython",
    "version": 3
   },
   "file_extension": ".py",
   "mimetype": "text/x-python",
   "name": "python",
   "nbconvert_exporter": "python",
   "pygments_lexer": "ipython3",
   "version": "3.7.3"
  }
 },
 "nbformat": 4,
 "nbformat_minor": 2
}
